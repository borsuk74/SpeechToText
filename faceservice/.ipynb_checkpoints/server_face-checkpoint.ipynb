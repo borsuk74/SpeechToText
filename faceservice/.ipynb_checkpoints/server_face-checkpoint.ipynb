{
 "cells": [
  {
   "cell_type": "code",
   "execution_count": 1,
   "metadata": {},
   "outputs": [],
   "source": [
    "from __future__ import division\n",
    "\n",
    "import re\n",
    "import sys\n",
    "import grpc\n",
    "import face_pb2\n",
    "import face_pb2_grpc\n",
    "from concurrent import futures\n",
    "import random\n",
    "import time\n",
    "from PIL import Image\n",
    "\n",
    "import matplotlib\n",
    "import matplotlib.pyplot as plt\n",
    "%matplotlib inline"
   ]
  },
  {
   "cell_type": "code",
   "execution_count": 2,
   "metadata": {},
   "outputs": [],
   "source": [
    "class FaceServicer(face_pb2_grpc.FaceServiceServicer):\n",
    "    '''Example of server to process faces. It takes 120-130ms to copy image\n",
    "       from request, or around 8fps.'''\n",
    "    def RecognizeFace(self, request, context):\n",
    "        print(\"We got request!\")\n",
    "        \n",
    "        timeStamp = request.timeStamp\n",
    "        print(timeStamp)\n",
    "        if len(request.videoContent) > 0:\n",
    "           \n",
    "            images = list(request.videoContent)\n",
    "            image = Image.frombytes('RGBA', (160, 160), images[0])\n",
    "            print(\"We got some image here!\")\n",
    "           \n",
    "            plt.title(str(timeStamp))\n",
    "            plt.imshow(image)\n",
    "            plt.show()\n",
    "            plt.clf()\n",
    "            image.close()\n",
    "            \n",
    "\n",
    "        response = face_pb2.FaceRecognitionResponse(num=1)\n",
    "        \n",
    "        return response"
   ]
  },
  {
   "cell_type": "code",
   "execution_count": 3,
   "metadata": {},
   "outputs": [],
   "source": [
    "def serve():    \n",
    "    server = grpc.server(futures.ThreadPoolExecutor(max_workers=10))\n",
    "    face_pb2_grpc.add_FaceServiceServicer_to_server(FaceServicer(), server)\n",
    "    server.add_insecure_port('[::]:50052')\n",
    "    server.start()\n",
    "    server.wait_for_termination()"
   ]
  },
  {
   "cell_type": "code",
   "execution_count": null,
   "metadata": {},
   "outputs": [],
   "source": [
    "serve()"
   ]
  }
 ],
 "metadata": {
  "kernelspec": {
   "display_name": "Python 3",
   "language": "python",
   "name": "python3"
  },
  "language_info": {
   "codemirror_mode": {
    "name": "ipython",
    "version": 3
   },
   "file_extension": ".py",
   "mimetype": "text/x-python",
   "name": "python",
   "nbconvert_exporter": "python",
   "pygments_lexer": "ipython3",
   "version": "3.6.9"
  }
 },
 "nbformat": 4,
 "nbformat_minor": 4
}
